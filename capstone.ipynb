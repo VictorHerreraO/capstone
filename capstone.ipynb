{
 "cells": [
  {
   "cell_type": "markdown",
   "metadata": {},
   "source": [
    "# Capstone project for Victor Herrera\n",
    "\n",
    "![Course Hero](images/hero.png)"
   ]
  },
  {
   "cell_type": "markdown",
   "metadata": {},
   "source": [
    "## Introduction\n",
    "\n",
    "This project is the capstone project for the 'Plating with Jupyter notebooks and Machine learning' bootcamp. The purpose of this project is to improve my data cleaning skills and create a model that is capable of estimating a used car value according to several factors."
   ]
  },
  {
   "cell_type": "markdown",
   "metadata": {},
   "source": [
    "## Data Set Selection\n",
    "\n",
    "The dataset was found on Kaggle. \n",
    "\n",
    "It resulted interesting for me because I like to check every now and then the prices of different car models just to have an idea of the current state of the car market. I know that this prices may not be tha same for my country but it's a good place to start."
   ]
  },
  {
   "cell_type": "markdown",
   "metadata": {},
   "source": [
    "## Data Examination\n",
    "\n",
    "Let's start with the imports for the notebook.\n",
    "\n",
    "Note: Remember to add in the `requirements.txt` file all the modules you use."
   ]
  },
  {
   "cell_type": "code",
   "execution_count": null,
   "metadata": {},
   "outputs": [],
   "source": [
    "import numpy as np\n",
    "import pandas as pd\n",
    "import matplotlib.pyplot as plt"
   ]
  },
  {
   "cell_type": "markdown",
   "metadata": {},
   "source": [
    "Get the selected data set into a pandas Dataframe.\n",
    "\n",
    "Note: You need to add the right method to load the data."
   ]
  },
  {
   "cell_type": "code",
   "execution_count": null,
   "metadata": {},
   "outputs": [],
   "source": [
    "cars_raw = pd.read_csv('data/cars_raw.csv')"
   ]
  },
  {
   "cell_type": "markdown",
   "metadata": {},
   "source": [
    "Find relevant information about the selected dataset.\n",
    "\n",
    "- How many rows and columns does it has?\n",
    "- Which characteristics does each column has?\n",
    "    - Data type\n",
    "    - Minimum and maximum values\n",
    "    - Values distribution\n",
    "    - Missing data\n",
    "- Which columns are related or are dependent on each other? \n",
    "    - Which ones can be derived?\n",
    "    - Which are good candidates for an hypothesis?\n",
    "\n",
    "Note: Use pandas methods as shape, head, sample, groupby, describe and any other you can think of!"
   ]
  },
  {
   "cell_type": "code",
   "execution_count": null,
   "metadata": {},
   "outputs": [],
   "source": [
    "# How many rows and columns does it has?\n",
    "\n",
    "print(\"Data frame has:\")\n",
    "print(\" -- \" + str(cars_raw.shape[1]) + \" rows\")\n",
    "print(\" -- \" + str(cars_raw.shape[0]) +\" cols \")"
   ]
  },
  {
   "cell_type": "code",
   "execution_count": null,
   "metadata": {},
   "outputs": [],
   "source": [
    "# Display some data to get an idea of what we are working with\n",
    "\n",
    "print(\"5 entries sample:\")\n",
    "cars_raw.sample(n=5)"
   ]
  },
  {
   "cell_type": "code",
   "execution_count": null,
   "metadata": {},
   "outputs": [],
   "source": [
    "# Colums data type and missing data\n",
    "\n",
    "print(\"Columns composition is:\")\n",
    "cars_raw.info(verbose=True)"
   ]
  },
  {
   "cell_type": "code",
   "execution_count": null,
   "metadata": {},
   "outputs": [],
   "source": [
    "# Of which we only have these unique values\n",
    "\n",
    "cars_raw.nunique()"
   ]
  },
  {
   "cell_type": "code",
   "execution_count": null,
   "metadata": {},
   "outputs": [],
   "source": [
    "# Columns data min and max values as well as dristribution\n",
    "cars_raw.describe(include=\"all\")"
   ]
  },
  {
   "cell_type": "markdown",
   "metadata": {},
   "source": [
    "## Define the Hypothesis to test\n",
    "\n",
    "The price of an used car should be able to be estimated based on several attributes of the state of the car. Older cars should be cheaper than newer cars, but also a car from a premium brand should have a higher value than a regular brand car from the same year.\n",
    "\n",
    "The hypothesis to test is that depending on the attributes of the car we should be able to estimate a \"fair price\" for selling."
   ]
  },
  {
   "cell_type": "markdown",
   "metadata": {},
   "source": [
    "## Clean the data\n",
    "\n",
    "Create a new Data Frame just with the data you are going to use"
   ]
  },
  {
   "cell_type": "code",
   "execution_count": null,
   "metadata": {},
   "outputs": [],
   "source": []
  },
  {
   "cell_type": "markdown",
   "metadata": {},
   "source": [
    "## Run your experiment(s)\n",
    "\n",
    "Describe what your experiment is done, and execute it.\n",
    "\n",
    "Note: Be generous with your plots!"
   ]
  },
  {
   "cell_type": "code",
   "execution_count": null,
   "metadata": {},
   "outputs": [],
   "source": []
  },
  {
   "cell_type": "markdown",
   "metadata": {},
   "source": [
    "## Reach a conclusion\n",
    "\n",
    "What was the result of your experiment?\n",
    "\n",
    "How can it be improved?\n",
    "\n",
    "Elaborate in one thing you learn during the capstone project."
   ]
  },
  {
   "cell_type": "markdown",
   "metadata": {},
   "source": [
    "## Congratulations\n",
    "\n",
    "You have finished the bootcamp!\n",
    "\n",
    "![Congratulations](images/congratulations.jpg)"
   ]
  }
 ],
 "metadata": {
  "kernelspec": {
   "display_name": "Python 3.8.9 ('venv': venv)",
   "language": "python",
   "name": "python3"
  },
  "language_info": {
   "codemirror_mode": {
    "name": "ipython",
    "version": 3
   },
   "file_extension": ".py",
   "mimetype": "text/x-python",
   "name": "python",
   "nbconvert_exporter": "python",
   "pygments_lexer": "ipython3",
   "version": "3.8.9"
  },
  "vscode": {
   "interpreter": {
    "hash": "f477b14a0f09b5fe870e64859caee108ca8f631a0805a5703aee73688d5e6931"
   }
  }
 },
 "nbformat": 4,
 "nbformat_minor": 4
}

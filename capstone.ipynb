{
 "cells": [
  {
   "cell_type": "markdown",
   "metadata": {},
   "source": [
    "# Capstone project for Victor Herrera\n",
    "\n",
    "![Course Hero](images/hero.png)"
   ]
  },
  {
   "cell_type": "markdown",
   "metadata": {},
   "source": [
    "## Introduction\n",
    "\n",
    "This project is the capstone project for the 'Plating with Jupyter notebooks and Machine learning' bootcamp. The purpose of this project is to improve my data cleaning skills and create a model that is capable of estimating a used car value according to several factors."
   ]
  },
  {
   "cell_type": "markdown",
   "metadata": {},
   "source": [
    "## Data Set Selection\n",
    "\n",
    "The dataset was found on Kaggle. \n",
    "\n",
    "It resulted interesting for me because I like to check every now and then the prices of different car models just to have an idea of the current state of the car market. I know that this prices may not be tha same for my country but it's a good place to start."
   ]
  },
  {
   "cell_type": "markdown",
   "metadata": {},
   "source": [
    "## Data Examination\n",
    "\n",
    "Let's start with the imports for the notebook.\n",
    "\n",
    "Note: Remember to add in the `requirements.txt` file all the modules you use."
   ]
  },
  {
   "cell_type": "code",
   "execution_count": null,
   "metadata": {},
   "outputs": [],
   "source": [
    "import numpy as np\n",
    "import pandas as pd\n",
    "import matplotlib.pyplot as plt"
   ]
  },
  {
   "cell_type": "markdown",
   "metadata": {},
   "source": [
    "Get the selected data set into a pandas Dataframe.\n",
    "\n",
    "Note: You need to add the right method to load the data."
   ]
  },
  {
   "cell_type": "code",
   "execution_count": null,
   "metadata": {},
   "outputs": [],
   "source": [
    "cars_raw_df = pd.read_csv('data/cars_raw.csv')"
   ]
  },
  {
   "cell_type": "markdown",
   "metadata": {},
   "source": [
    "Find relevant information about the selected dataset.\n",
    "\n",
    "- How many rows and columns does it has?\n",
    "- Which characteristics does each column has?\n",
    "    - Data type\n",
    "    - Minimum and maximum values\n",
    "    - Values distribution\n",
    "    - Missing data\n",
    "- Which columns are related or are dependent on each other? \n",
    "    - Which ones can be derived?\n",
    "    - Which are good candidates for an hypothesis?\n",
    "\n",
    "Note: Use pandas methods as shape, head, sample, groupby, describe and any other you can think of!"
   ]
  },
  {
   "cell_type": "code",
   "execution_count": null,
   "metadata": {},
   "outputs": [],
   "source": [
    "# How many rows and columns does it has?\n",
    "\n",
    "print(\"Data frame has:\")\n",
    "print(\" -- \" + str(cars_raw_df.shape[1]) + \" rows\")\n",
    "print(\" -- \" + str(cars_raw_df.shape[0]) +\" cols \")\n",
    "\n",
    "print(\"Columns in the data frame are:\")\n",
    "for col in cars_raw_df.columns:\n",
    "    print(\" -- \" + col)"
   ]
  },
  {
   "cell_type": "code",
   "execution_count": null,
   "metadata": {},
   "outputs": [],
   "source": [
    "# Display some data to get an idea of what we are working with\n",
    "\n",
    "print(\"5 entries sample:\")\n",
    "cars_raw_df.sample(n=5)"
   ]
  },
  {
   "cell_type": "code",
   "execution_count": null,
   "metadata": {},
   "outputs": [],
   "source": [
    "# Colums data type and missing data\n",
    "\n",
    "print(\"Columns composition is:\")\n",
    "cars_raw_df.info(verbose=True)"
   ]
  },
  {
   "cell_type": "code",
   "execution_count": null,
   "metadata": {},
   "outputs": [],
   "source": [
    "# Of which we only have these unique values\n",
    "\n",
    "cars_raw_df.nunique()"
   ]
  },
  {
   "cell_type": "code",
   "execution_count": null,
   "metadata": {},
   "outputs": [],
   "source": [
    "# Columns data min and max values as well as dristribution\n",
    "cars_raw_df.describe(include=\"all\")"
   ]
  },
  {
   "cell_type": "markdown",
   "metadata": {},
   "source": [
    "## Define the Hypothesis to test\n",
    "\n",
    "The price of an used car should be able to be estimated based on several attributes of the state of the car. Older cars should be cheaper than newer cars, but also a car from a premium brand should have a higher value than a regular brand car from the same year.\n",
    "\n",
    "The hypothesis to test is that depending on the attributes of the car we should be able to estimate a \"fair price\" for selling."
   ]
  },
  {
   "cell_type": "markdown",
   "metadata": {},
   "source": [
    "### Drawing some charts\n",
    "\n"
   ]
  },
  {
   "cell_type": "markdown",
   "metadata": {},
   "source": [
    "## Clean the data\n",
    "\n",
    "Create a new Data Frame just with the data you are going to use"
   ]
  },
  {
   "cell_type": "markdown",
   "metadata": {},
   "source": [
    "### Removing columns that i'm not interested in:\n",
    "\n",
    "- **ConsumerRating** as I'm not sure what the user is rating\n",
    "- **ConsumerReviews** more reviews shouldn't imply a higher price\n",
    "- **SellerName** because `cars_raw_df[\"SellerName\"].nunique()` returns 3971, so it would be harder to transform those unique values to a number representation\n",
    "- **SellerRating** because I'm analizing the cars, not the seller\n",
    "- **StreetName** because I'm not interested in the particular seller address\n",
    "- **Zipcode** because I will use  `State` as my reference for location\n",
    "- **DealType** because I don't know what is the criteria for a 'Great' deal\n",
    "- **ValueForMoneyRating** beacause this may be the most subjective value of them all, how would a potential seller rate this value?\n",
    "- **MinMPG** Related to engine type\n",
    "- **MaxMPG** Related to engine type\n",
    "- **VIN** Is unique to each vehicle\n",
    "- **Stock#** is unique to each vehicle\n"
   ]
  },
  {
   "cell_type": "code",
   "execution_count": null,
   "metadata": {},
   "outputs": [],
   "source": [
    "# SellerName overview\n",
    "print(\"Registered unique seller names:\")\n",
    "cars_raw_df[\"SellerName\"].nunique()"
   ]
  },
  {
   "cell_type": "code",
   "execution_count": null,
   "metadata": {},
   "outputs": [],
   "source": [
    "# DealType overview\n",
    "print(\"Types of DealType:\")\n",
    "cars_raw_df[\"DealType\"].unique()"
   ]
  },
  {
   "cell_type": "code",
   "execution_count": null,
   "metadata": {},
   "outputs": [],
   "source": [
    "# Column removal\n",
    "\n",
    "cars_df = cars_raw_df.drop(columns=[\n",
    "    \"ConsumerRating\",\n",
    "    \"ConsumerReviews\",\n",
    "    \"SellerName\",\n",
    "    \"SellerRating\",\n",
    "    \"StreetName\",\n",
    "    \"Zipcode\",\n",
    "    \"DealType\",\n",
    "    \"ValueForMoneyRating\",\n",
    "    \"MinMPG\",\n",
    "    \"MaxMPG\",\n",
    "    \"VIN\",\n",
    "    \"Stock#\",\n",
    "])\n",
    "\n",
    "cars_df.describe(include=\"all\")"
   ]
  },
  {
   "cell_type": "code",
   "execution_count": null,
   "metadata": {},
   "outputs": [],
   "source": [
    "print(\"Remaining columns in the data frame are:\")\n",
    "for col in cars_df.columns:\n",
    "    print(\" -- \" + col)"
   ]
  },
  {
   "cell_type": "markdown",
   "metadata": {},
   "source": [
    "### Narrow the data frame\n",
    "\n",
    "For this excercise we will focus on a certain car model.\n",
    "\n",
    "First I wan't to know what car manufacturer has the most data.\n",
    "\n",
    "At this moment my guss would be Toyota because fun fact: the Toyota Corolla is the most sold car ever in history"
   ]
  },
  {
   "cell_type": "code",
   "execution_count": null,
   "metadata": {},
   "outputs": [],
   "source": [
    "print(\"Top 10 Makers count:\")\n",
    "(cars_df.groupby(\"Make\")[\"Make\"]\n",
    "    .count()\n",
    "    .reset_index(name='count')\n",
    "    .sort_values(['count'], ascending=False)\n",
    "    .head(10))\n",
    "\n"
   ]
  },
  {
   "cell_type": "markdown",
   "metadata": {},
   "source": [
    "I guess I was wrong, and the used car market is flodded with BMW's then. I would like to have a look at the top 5 makers"
   ]
  },
  {
   "cell_type": "code",
   "execution_count": null,
   "metadata": {},
   "outputs": [],
   "source": [
    "top_3_makers = [\"BMW\", \"Mercedes-Benz\", \"Toyota\"]\n",
    "top_5_makers = [\"BMW\", \"Mercedes-Benz\", \"Toyota\", \"Honda\", \"Ford\"]\n",
    "top_makers = cars_df[cars_df[\"Make\"].isin(top_5_makers)]\n",
    "top_makers.describe(include=\"all\")"
   ]
  },
  {
   "cell_type": "markdown",
   "metadata": {},
   "source": [
    "In my first attempt I tried to use the top 3 makers and for those (`BMW`, `Mercedes-Benz`, `Toyota`) the most pupular car model was the **BMW X5 xDrive40i**, but I had my doubts. Maybe rich people change care more often, so they resell their car when buying a new one...\n",
    "\n",
    "![People's car](images/bmw_x5.jpg)\n",
    "\n",
    "Including the top 5 makers resulted in the most popular car model being the **Honda CR-V EX-L** wich make a little bit more sense to me.\n",
    "\n",
    "![Honda CR-V](images/honda-cr-v.png)\n",
    "\n",
    "But the issue persisted, the most common car model for the whole data frame is the **Jeep Grand Cherokee Limited**, so not a Honda nor a BMW"
   ]
  },
  {
   "cell_type": "markdown",
   "metadata": {},
   "source": [
    "### Model cleanup\n",
    "\n",
    "Often times a cars model name is the sum of the model itself combined with some base extra commodities that the manufacturer adds on top that base model."
   ]
  },
  {
   "cell_type": "code",
   "execution_count": null,
   "metadata": {},
   "outputs": [],
   "source": [
    "#Define a function for listing top n for certain column\n",
    "def list_top_n(df, col, n):\n",
    "    return (df.groupby(col)[col]\n",
    "        .count()\n",
    "        .reset_index(name='count')\n",
    "        .sort_values(['count'], ascending=False)\n",
    "        .head(n))"
   ]
  },
  {
   "cell_type": "code",
   "execution_count": null,
   "metadata": {},
   "outputs": [],
   "source": [
    "bmw_df = cars_df[cars_df[\"Make\"] == \"BMW\"]\n",
    "\n",
    "list_top_n(bmw_df, col=\"Model\", n=10)"
   ]
  },
  {
   "cell_type": "markdown",
   "metadata": {},
   "source": [
    "Returning to BMW, we can see that out of the top 10 most popular BMW models 2 are different configurations of the X5 (\"X5 xDrive40i\", \"X5 xDrive35i\") and 3 are X3 (\"X3 xDrive30i\", \"X3 sDrive30i\", \"X3 xDrive28i\").\n",
    "\n",
    "I would like to do the same but for top 30 car models from the whole data frame:"
   ]
  },
  {
   "cell_type": "code",
   "execution_count": null,
   "metadata": {},
   "outputs": [],
   "source": [
    "list_top_n(cars_df, col=\"Model\", n=30)"
   ]
  },
  {
   "cell_type": "markdown",
   "metadata": {},
   "source": [
    "Reviewing the top 30 models I would make the **bold** assumption that more often than not, the last word is the one that has the most extras, so maybe deleting that last word may produce different results for the same analysis."
   ]
  },
  {
   "cell_type": "code",
   "execution_count": null,
   "metadata": {},
   "outputs": [],
   "source": [
    "cars_df[[\"ModelBase\", \"ModelExtras\"]] = cars_df[\"Model\"].str.rsplit(' ', n=1, expand=True)\n",
    "cars_df.head()"
   ]
  },
  {
   "cell_type": "markdown",
   "metadata": {},
   "source": [
    "Now that we have our models separated by base and extras let's see what are the top models"
   ]
  },
  {
   "cell_type": "code",
   "execution_count": null,
   "metadata": {},
   "outputs": [],
   "source": [
    "list_top_n(cars_df, col=\"ModelBase\", n=30)"
   ]
  },
  {
   "cell_type": "code",
   "execution_count": null,
   "metadata": {},
   "outputs": [],
   "source": [
    "## TODO: Select a car model and justify it\n",
    "\n",
    "corollas = cars_df[cars_df[\"ModelBase\"] == \"Corolla\"]\n",
    "list_top_n(corollas, col=\"ModelExtras\", n=20)"
   ]
  },
  {
   "cell_type": "markdown",
   "metadata": {},
   "source": [
    "## Run your experiment(s)\n",
    "\n",
    "Describe what your experiment is done, and execute it.\n",
    "\n",
    "Note: Be generous with your plots!"
   ]
  },
  {
   "cell_type": "code",
   "execution_count": null,
   "metadata": {},
   "outputs": [],
   "source": []
  },
  {
   "cell_type": "markdown",
   "metadata": {},
   "source": [
    "## Reach a conclusion\n",
    "\n",
    "What was the result of your experiment?\n",
    "\n",
    "How can it be improved?\n",
    "\n",
    "Elaborate in one thing you learn during the capstone project."
   ]
  },
  {
   "cell_type": "markdown",
   "metadata": {},
   "source": [
    "## Congratulations\n",
    "\n",
    "You have finished the bootcamp!\n",
    "\n",
    "![Congratulations](images/congratulations.jpg)"
   ]
  }
 ],
 "metadata": {
  "kernelspec": {
   "display_name": "Python 3.8.9 ('venv': venv)",
   "language": "python",
   "name": "python3"
  },
  "language_info": {
   "codemirror_mode": {
    "name": "ipython",
    "version": 3
   },
   "file_extension": ".py",
   "mimetype": "text/x-python",
   "name": "python",
   "nbconvert_exporter": "python",
   "pygments_lexer": "ipython3",
   "version": "3.8.9"
  },
  "vscode": {
   "interpreter": {
    "hash": "f477b14a0f09b5fe870e64859caee108ca8f631a0805a5703aee73688d5e6931"
   }
  }
 },
 "nbformat": 4,
 "nbformat_minor": 4
}

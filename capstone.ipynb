{
 "cells": [
  {
   "cell_type": "markdown",
   "metadata": {},
   "source": [
    "# Capstone project for Victor Herrera\n",
    "\n",
    "![Course Hero](images/hero.png)"
   ]
  },
  {
   "cell_type": "markdown",
   "metadata": {},
   "source": [
    "## Introduction\n",
    "\n",
    "This project is the capstone project for the 'Plating with Jupyter notebooks and Machine learning' bootcamp. The purpose of this project is to improve my data cleaning skills and create a model that is capable of estimating a used car value according to several factors."
   ]
  },
  {
   "cell_type": "markdown",
   "metadata": {},
   "source": [
    "## Data Set Selection\n",
    "\n",
    "The dataset was found on Kaggle. \n",
    "\n",
    "It resulted interesting for me because I like to check every now and then the prices of different car models just to have an idea of the current state of the car market. I know that this prices may not be tha same for my country but it's a good place to start."
   ]
  },
  {
   "cell_type": "markdown",
   "metadata": {},
   "source": [
    "## Data Examination\n",
    "\n",
    "Let's start with the imports for the notebook.\n",
    "\n",
    "Note: Remember to add in the `requirements.txt` file all the modules you use."
   ]
  },
  {
   "cell_type": "code",
   "execution_count": null,
   "metadata": {},
   "outputs": [],
   "source": [
    "import numpy as np\n",
    "import pandas as pd\n",
    "import matplotlib.pyplot as plt"
   ]
  },
  {
   "cell_type": "markdown",
   "metadata": {},
   "source": [
    "Get the selected data set into a pandas Dataframe.\n",
    "\n",
    "Note: You need to add the right method to load the data."
   ]
  },
  {
   "cell_type": "code",
   "execution_count": null,
   "metadata": {},
   "outputs": [],
   "source": [
    "cars_raw_df = pd.read_csv('data/cars_raw.csv')"
   ]
  },
  {
   "cell_type": "markdown",
   "metadata": {},
   "source": [
    "Find relevant information about the selected dataset.\n",
    "\n",
    "- How many rows and columns does it has?\n",
    "- Which characteristics does each column has?\n",
    "    - Data type\n",
    "    - Minimum and maximum values\n",
    "    - Values distribution\n",
    "    - Missing data\n",
    "- Which columns are related or are dependent on each other? \n",
    "    - Which ones can be derived?\n",
    "    - Which are good candidates for an hypothesis?\n",
    "\n",
    "Note: Use pandas methods as shape, head, sample, groupby, describe and any other you can think of!"
   ]
  },
  {
   "cell_type": "code",
   "execution_count": null,
   "metadata": {},
   "outputs": [],
   "source": [
    "# How many rows and columns does it has?\n",
    "\n",
    "print(\"Data frame has:\")\n",
    "print(\" -- \" + str(cars_raw_df.shape[1]) + \" rows\")\n",
    "print(\" -- \" + str(cars_raw_df.shape[0]) +\" cols \")\n",
    "\n",
    "print(\"Columns in the data frame are:\")\n",
    "for col in cars_raw_df.columns:\n",
    "    print(\" -- \" + col)"
   ]
  },
  {
   "cell_type": "code",
   "execution_count": null,
   "metadata": {},
   "outputs": [],
   "source": [
    "# Display some data to get an idea of what we are working with\n",
    "\n",
    "print(\"5 entries sample:\")\n",
    "cars_raw_df.sample(n=5)"
   ]
  },
  {
   "cell_type": "code",
   "execution_count": null,
   "metadata": {},
   "outputs": [],
   "source": [
    "# Colums data type and missing data\n",
    "\n",
    "print(\"Columns composition is:\")\n",
    "cars_raw_df.info(verbose=True)"
   ]
  },
  {
   "cell_type": "code",
   "execution_count": null,
   "metadata": {},
   "outputs": [],
   "source": [
    "# Of which we only have these unique values\n",
    "\n",
    "cars_raw_df.nunique()"
   ]
  },
  {
   "cell_type": "code",
   "execution_count": null,
   "metadata": {},
   "outputs": [],
   "source": [
    "# Columns data min and max values as well as dristribution\n",
    "cars_raw_df.describe(include=\"all\")"
   ]
  },
  {
   "cell_type": "markdown",
   "metadata": {},
   "source": [
    "## Define the Hypothesis to test\n",
    "\n",
    "The price of an used car should be able to be estimated based on several attributes of the state of the car. Older cars should be cheaper than newer cars, but also a car from a premium brand should have a higher value than a regular brand car from the same year.\n",
    "\n",
    "The hypothesis to test is that depending on the attributes of the car we should be able to estimate a \"fair price\" for selling."
   ]
  },
  {
   "cell_type": "markdown",
   "metadata": {},
   "source": [
    "### Drawing some charts\n",
    "\n"
   ]
  },
  {
   "cell_type": "markdown",
   "metadata": {},
   "source": [
    "## Clean the data\n",
    "\n",
    "Create a new Data Frame just with the data you are going to use"
   ]
  },
  {
   "cell_type": "markdown",
   "metadata": {},
   "source": [
    "### Removing columns that i'm not interested in:\n",
    "\n",
    "- **ConsumerRating** as I'm not sure what the user is rating\n",
    "- **ConsumerReviews** more reviews shouldn't imply a higher price\n",
    "- **SellerName** because `cars_raw_df[\"SellerName\"].nunique()` returns 3971, so it would be harder to transform those unique values to a number representation\n",
    "- **SellerRating** because I'm analizing the cars, not the seller\n",
    "- **SellerReviews** same as seller rating\n",
    "- **StreetName** because I'm not interested in the particular seller address\n",
    "- **Zipcode** because I will use  `State` as my reference for location\n",
    "- **DealType** because I don't know what is the criteria for a 'Great' deal\n",
    "- **ValueForMoneyRating** beacause this may be the most subjective value of them all, how would a potential seller rate this value?\n",
    "- **MinMPG** Related to engine type\n",
    "- **MaxMPG** Related to engine type\n",
    "- **VIN** Is unique to each vehicle\n",
    "- **Stock#** is unique to each vehicle\n"
   ]
  },
  {
   "cell_type": "code",
   "execution_count": null,
   "metadata": {},
   "outputs": [],
   "source": [
    "# SellerName overview\n",
    "print(\"Registered unique seller names:\")\n",
    "cars_raw_df[\"SellerName\"].nunique()"
   ]
  },
  {
   "cell_type": "code",
   "execution_count": null,
   "metadata": {},
   "outputs": [],
   "source": [
    "# DealType overview\n",
    "print(\"Types of DealType:\")\n",
    "cars_raw_df[\"DealType\"].unique()"
   ]
  },
  {
   "cell_type": "code",
   "execution_count": null,
   "metadata": {},
   "outputs": [],
   "source": [
    "# Column removal\n",
    "\n",
    "cars_df = cars_raw_df.drop(columns=[\n",
    "    \"ConsumerRating\",\n",
    "    \"ConsumerReviews\",\n",
    "    \"SellerName\",\n",
    "    \"SellerRating\",\n",
    "    \"SellerReviews\",\n",
    "    \"StreetName\",\n",
    "    \"Zipcode\",\n",
    "    \"DealType\",\n",
    "    \"ValueForMoneyRating\",\n",
    "    \"MinMPG\",\n",
    "    \"MaxMPG\",\n",
    "    \"VIN\",\n",
    "    \"Stock#\",\n",
    "])\n",
    "\n",
    "cars_df.describe(include=\"all\")"
   ]
  },
  {
   "cell_type": "code",
   "execution_count": null,
   "metadata": {},
   "outputs": [],
   "source": [
    "print(\"Remaining columns in the data frame are:\")\n",
    "for col in cars_df.columns:\n",
    "    print(\" -- \" + col)"
   ]
  },
  {
   "cell_type": "markdown",
   "metadata": {},
   "source": [
    "### Narrow the data frame\n",
    "\n",
    "For this excercise we will focus on a certain car model.\n",
    "\n",
    "First I wan't to know what car manufacturer has the most data.\n",
    "\n",
    "At this moment my guss would be Toyota because fun fact: the Toyota Corolla is the most sold car ever in history"
   ]
  },
  {
   "cell_type": "code",
   "execution_count": null,
   "metadata": {},
   "outputs": [],
   "source": [
    "#Define a function for listing top n for certain column\n",
    "def list_top_n(df, col, n):\n",
    "    return (df.groupby(col)[col]\n",
    "        .count()\n",
    "        .reset_index(name='count')\n",
    "        .sort_values(['count'], ascending=False)\n",
    "        .head(n))"
   ]
  },
  {
   "cell_type": "code",
   "execution_count": null,
   "metadata": {},
   "outputs": [],
   "source": [
    "print(\"Top 10 Makers count:\")\n",
    "\n",
    "list_top_n(cars_df, col=\"Make\", n=10)"
   ]
  },
  {
   "cell_type": "markdown",
   "metadata": {},
   "source": [
    "I guess I was wrong, and the used car market is flodded with BMW's then. I would like to have a look at the top 5 makers"
   ]
  },
  {
   "cell_type": "code",
   "execution_count": null,
   "metadata": {},
   "outputs": [],
   "source": [
    "top_3_makers = [\"BMW\", \"Mercedes-Benz\", \"Toyota\"]\n",
    "top_5_makers = [\"BMW\", \"Mercedes-Benz\", \"Toyota\", \"Honda\", \"Ford\"]\n",
    "top_makers = cars_df[cars_df[\"Make\"].isin(top_5_makers)]\n",
    "top_makers.describe(include=\"all\")"
   ]
  },
  {
   "cell_type": "markdown",
   "metadata": {},
   "source": [
    "In my first attempt I tried to use the top 3 makers and for those (`BMW`, `Mercedes-Benz`, `Toyota`) the most pupular car model was the **BMW X5 xDrive40i**, but I had my doubts. Maybe rich people change care more often, so they resell their car when buying a new one...\n",
    "\n",
    "![People's car](images/bmw_x5.jpg)\n",
    "\n",
    "Including the top 5 makers resulted in the most popular car model being the **Honda CR-V EX-L** wich make a little bit more sense to me.\n",
    "\n",
    "![Honda CR-V](images/honda-cr-v.png)\n",
    "\n",
    "But the issue persisted, the most common car model for the whole data frame is the **Jeep Grand Cherokee Limited**, so not a Honda nor a BMW"
   ]
  },
  {
   "cell_type": "markdown",
   "metadata": {},
   "source": [
    "### Model cleanup\n",
    "\n",
    "Often times a cars model name is the sum of the model itself combined with some base extra commodities that the manufacturer adds on top that base model."
   ]
  },
  {
   "cell_type": "code",
   "execution_count": null,
   "metadata": {},
   "outputs": [],
   "source": [
    "bmw_df = cars_df[cars_df[\"Make\"] == \"BMW\"]\n",
    "\n",
    "list_top_n(bmw_df, col=\"Model\", n=10)"
   ]
  },
  {
   "cell_type": "markdown",
   "metadata": {},
   "source": [
    "Returning to BMW, we can see that out of the top 10 most popular BMW models 2 are different configurations of the X5 (\"X5 xDrive40i\", \"X5 xDrive35i\") and 3 are X3 (\"X3 xDrive30i\", \"X3 sDrive30i\", \"X3 xDrive28i\").\n",
    "\n",
    "I would like to do the same but for top 30 car models from the whole data frame:"
   ]
  },
  {
   "cell_type": "code",
   "execution_count": null,
   "metadata": {},
   "outputs": [],
   "source": [
    "list_top_n(cars_df, col=\"Model\", n=30)"
   ]
  },
  {
   "cell_type": "markdown",
   "metadata": {},
   "source": [
    "Reviewing the top 30 models I would make the **bold** assumption that more often than not, the last word is the one that has the most extras, so maybe deleting that last word may produce different results for the same analysis."
   ]
  },
  {
   "cell_type": "code",
   "execution_count": null,
   "metadata": {},
   "outputs": [],
   "source": [
    "cars_df[[\"ModelBase\", \"ModelExtras\"]] = cars_df[\"Model\"].str.rsplit(' ', n=1, expand=True)\n",
    "cars_df.head()"
   ]
  },
  {
   "cell_type": "markdown",
   "metadata": {},
   "source": [
    "Now that we have our models separated by base and extras let's see what are the top models"
   ]
  },
  {
   "cell_type": "markdown",
   "metadata": {},
   "source": [
    "So, lets compare the before and after top 10\n",
    "\n",
    "Top | Model | count | vs | count | ModelBase \n",
    "--- | --- | --- | --- | --- | ---\n",
    "1 | Grand Cherokee Limited | 266| - | 331 | Grand Cherokee\n",
    "2 | CR-V EX-L | 189| - | 305 | CR-V\n",
    "3 | X5 xDrive40i | 164| - | 248 | X5\n",
    "4 | XT5 Luxury | 142| - | 217 | RAV4\n",
    "5 | RAV4 LE | 112| - | 203 | X3\n",
    "6 | GX 460 Base | 111| - | 147 | XT5\n",
    "7 | X3 xDrive30i | 108| - | 127 | RX 350\n",
    "8 | Pilot EX-L | 102| - | 126 | Pilot\n",
    "9 | CX-5 Grand Touring | 99| - | 125 | 1500\n",
    "10 | 1500 Laramie | 88| - | 117 | F-150"
   ]
  },
  {
   "cell_type": "code",
   "execution_count": null,
   "metadata": {},
   "outputs": [],
   "source": [
    "list_top_n(cars_df, col=\"ModelBase\", n=30)"
   ]
  },
  {
   "cell_type": "markdown",
   "metadata": {},
   "source": [
    "So we will be using the **Jeep Grand Cherokee** for this demo because its base model is the most frequent value on the dataframe.\n",
    "\n",
    "![Jeep Grand Cherokee](images/jeep_grand_cherokee.png)"
   ]
  },
  {
   "cell_type": "code",
   "execution_count": null,
   "metadata": {},
   "outputs": [],
   "source": [
    "# Select the model and make a copy to work with it inplace\n",
    "\n",
    "# Work with a certain model\n",
    "working_df = cars_df[cars_df[\"ModelBase\"] == \"Grand Cherokee\"].copy()\n",
    "\n",
    "# Work with all cars on df\n",
    "#working_df = cars_df.copy()\n",
    "\n",
    "list_top_n(working_df, col=\"ModelExtras\", n=20)"
   ]
  },
  {
   "cell_type": "code",
   "execution_count": null,
   "metadata": {},
   "outputs": [],
   "source": [
    "working_df.describe(include=\"all\")"
   ]
  },
  {
   "cell_type": "code",
   "execution_count": null,
   "metadata": {},
   "outputs": [],
   "source": [
    "# Drop model\n",
    "working_df.drop(columns=[\"Model\"], inplace=True)"
   ]
  },
  {
   "cell_type": "code",
   "execution_count": null,
   "metadata": {},
   "outputs": [],
   "source": [
    "## Review Used/New\n",
    "working_df[\"Used/New\"].unique()"
   ]
  },
  {
   "cell_type": "code",
   "execution_count": null,
   "metadata": {},
   "outputs": [],
   "source": [
    "## Set as certified\n",
    "def replace_certified(condition):\n",
    "    if \"certified\" in condition.lower():\n",
    "        return \"Certified\"\n",
    "    else:\n",
    "        return \"Used\"\n",
    "working_df[\"Used/New\"] = working_df[\"Used/New\"].apply(replace_certified)"
   ]
  },
  {
   "cell_type": "code",
   "execution_count": null,
   "metadata": {},
   "outputs": [],
   "source": [
    "# Change price format\n",
    "def price_as_number(price):\n",
    "    if \"$\" not in price:\n",
    "        return None\n",
    "    return float(price.replace(\"$\", \"\").replace(\",\", \"\"))\n",
    "\n",
    "working_df[\"Price\"] = working_df[\"Price\"].apply(price_as_number)"
   ]
  },
  {
   "cell_type": "code",
   "execution_count": null,
   "metadata": {},
   "outputs": [],
   "source": [
    "# View price distribution\n",
    "import plotly.express as px\n",
    "\n",
    "fig = px.histogram(working_df, x=\"Price\")\n",
    "fig.show()"
   ]
  },
  {
   "cell_type": "code",
   "execution_count": null,
   "metadata": {},
   "outputs": [],
   "source": [
    "# Remove potential outliers\n",
    "working_df = working_df.loc[working_df[\"Price\"] >= 12000]\n",
    "working_df = working_df.loc[working_df[\"Price\"] < 56000]"
   ]
  },
  {
   "cell_type": "code",
   "execution_count": null,
   "metadata": {},
   "outputs": [],
   "source": [
    "# Review color\n",
    "working_df[\"ExteriorColor\"].unique()"
   ]
  },
  {
   "cell_type": "code",
   "execution_count": null,
   "metadata": {},
   "outputs": [],
   "source": [
    "# Review drivetrain values\n",
    "working_df[\"Drivetrain\"].unique()"
   ]
  },
  {
   "cell_type": "code",
   "execution_count": null,
   "metadata": {},
   "outputs": [],
   "source": [
    "# Replace drivetrain\n",
    "drivetrains = {\n",
    "        \"Front-wheel Drive\": \"FWD\",\n",
    "        \"Front Wheel Drive\": \"FWD\",\n",
    "        \"Four-wheel Drive\": \"4WD\",\n",
    "        \"Rear-wheel Drive\": \"RWD\",\n",
    "        \"All-wheel Drive\": \"AWD\",\n",
    "        \"4WD\": \"4WD\",\n",
    "        \"AWD\": \"AWD\",\n",
    "        \"RWD\": \"RWD\",\n",
    "        \"FWD\": \"FWD\",\n",
    "        \"–\": None,\n",
    "        None: None\n",
    "    }\n",
    "def normalize_drivetrain(value):\n",
    "    return drivetrains[value]\n",
    "\n",
    "working_df[\"Drivetrain\"] = working_df[\"Drivetrain\"].apply(normalize_drivetrain)"
   ]
  },
  {
   "cell_type": "code",
   "execution_count": null,
   "metadata": {},
   "outputs": [],
   "source": [
    "# Review FuelType\n",
    "working_df[\"FuelType\"].unique()\n"
   ]
  },
  {
   "cell_type": "code",
   "execution_count": null,
   "metadata": {},
   "outputs": [],
   "source": [
    "# Review Transmission\n",
    "working_df[\"Transmission\"].unique()"
   ]
  },
  {
   "cell_type": "code",
   "execution_count": null,
   "metadata": {},
   "outputs": [],
   "source": [
    "def normalize_transmission(value=\"\"):\n",
    "    value_lower = value.lower()\n",
    "    if \"cvt\" in value_lower or \"variable\" in value_lower:\n",
    "        return \"CVT\"\n",
    "    if \"auto\" in value_lower or \"a/t\" in value_lower or \"double\" in value_lower or \"dual\" in value_lower:\n",
    "        return \"Automatic\"\n",
    "    if \"manual\" in value_lower or \"m/t\" in value_lower:\n",
    "        return \"Manual\"\n",
    "    return value\n",
    "\n",
    "working_df[\"Transmission\"] = working_df[\"Transmission\"].apply(normalize_transmission)"
   ]
  },
  {
   "cell_type": "code",
   "execution_count": null,
   "metadata": {},
   "outputs": [],
   "source": [
    "# Review Engine\n",
    "working_df[\"Engine\"].unique()"
   ]
  },
  {
   "cell_type": "code",
   "execution_count": null,
   "metadata": {},
   "outputs": [],
   "source": [
    "# Simplify engine to simpler categories\n",
    "## I Do not like this approach as it oversimplifies the engine\n",
    "def normalize_engine(value=\"\"):\n",
    "    value_lower = value.lower()\n",
    "    if \"diesel\" in value_lower:\n",
    "        if \"turbo\" in value_lower:\n",
    "            return \"turbo-diesel\"\n",
    "        else:\n",
    "            return \"diesel\"\n",
    "    if \"hybrid\" in value_lower or \"plug\" in value_lower:\n",
    "        if \"turbo\" in value_lower:\n",
    "            return \"turbo-hybrid\"\n",
    "        else:\n",
    "            return \"hybrid\"\n",
    "    if \"electric\" in value_lower:\n",
    "        return \"electric\"\n",
    "    if \"turbo\" in value_lower:\n",
    "        return \"turbo-gasoline\"\n",
    "    return \"gasoline\"\n",
    "\n",
    "working_df[\"Engine\"] = working_df[\"Engine\"].apply(normalize_engine)\n",
    "working_df[\"Engine\"].unique()"
   ]
  },
  {
   "cell_type": "code",
   "execution_count": null,
   "metadata": {},
   "outputs": [],
   "source": [
    "# Resulting df\n",
    "\n",
    "working_df = working_df.dropna()\n",
    "working_df.describe(include=\"all\")"
   ]
  },
  {
   "cell_type": "code",
   "execution_count": null,
   "metadata": {},
   "outputs": [],
   "source": [
    "working_df.describe()"
   ]
  },
  {
   "cell_type": "code",
   "execution_count": null,
   "metadata": {},
   "outputs": [],
   "source": [
    "working_df.info()"
   ]
  },
  {
   "cell_type": "markdown",
   "metadata": {},
   "source": [
    "## Run your experiment(s)\n",
    "\n",
    "Describe what your experiment is done, and execute it.\n",
    "\n",
    "Note: Be generous with your plots!"
   ]
  },
  {
   "cell_type": "code",
   "execution_count": null,
   "metadata": {},
   "outputs": [],
   "source": [
    "# We will use all the columns to predict the Price for that model\n",
    "\n",
    "# Import the required libraries\n",
    "from sklearn.model_selection import train_test_split\n",
    "from sklearn.preprocessing import OneHotEncoder\n",
    "from sklearn.compose import make_column_transformer\n",
    "from sklearn.metrics import accuracy_score\n",
    "from sklearn.preprocessing import MinMaxScaler\n",
    "from sklearn.linear_model import LinearRegression\n"
   ]
  },
  {
   "cell_type": "code",
   "execution_count": null,
   "metadata": {},
   "outputs": [],
   "source": [
    "# Use the data without the column we want to predict\n",
    "X = working_df[[\"Year\", \"Make\", \"ModelBase\", \"Drivetrain\", \"FuelType\", \"Mileage\"]]\n",
    "# Get the column we want to predict\n",
    "y = working_df[\"Price\"]"
   ]
  },
  {
   "cell_type": "code",
   "execution_count": null,
   "metadata": {},
   "outputs": [],
   "source": [
    "#Transform the data using a one hot encoder fot texts and min max scaler for scaling numbers\n",
    "column_transformer = make_column_transformer(\n",
    "    (OneHotEncoder(), [\"Make\", \"ModelBase\", \"Drivetrain\", \"FuelType\"]),\n",
    "    (MinMaxScaler(), [\"Year\", \"Mileage\"]),\n",
    "    remainder=\"passthrough\",\n",
    "    sparse_threshold=0)\n",
    "# Apply the transformer\n",
    "X = column_transformer.fit_transform(X)"
   ]
  },
  {
   "cell_type": "code",
   "execution_count": null,
   "metadata": {},
   "outputs": [],
   "source": [
    "X"
   ]
  },
  {
   "cell_type": "code",
   "execution_count": null,
   "metadata": {},
   "outputs": [],
   "source": [
    "\n",
    "# Split the data and test data\n",
    "X_train, X_test, y_train, y_test = train_test_split(X, y, test_size=0.2)\n"
   ]
  },
  {
   "cell_type": "code",
   "execution_count": null,
   "metadata": {},
   "outputs": [],
   "source": [
    "X_train"
   ]
  },
  {
   "cell_type": "code",
   "execution_count": null,
   "metadata": {},
   "outputs": [],
   "source": [
    "type(X_train)\n"
   ]
  },
  {
   "cell_type": "code",
   "execution_count": null,
   "metadata": {},
   "outputs": [],
   "source": [
    "# Create the training data frame\n",
    "X_train = pd.DataFrame(data=X_train, columns=column_transformer.get_feature_names_out())\n",
    "X_train.sample(5)"
   ]
  },
  {
   "cell_type": "code",
   "execution_count": null,
   "metadata": {},
   "outputs": [],
   "source": [
    "# Create the test data frame\n",
    "X_test = pd.DataFrame(data=X_test, columns=column_transformer.get_feature_names_out())\n",
    "X_test.sample(5)"
   ]
  },
  {
   "cell_type": "code",
   "execution_count": null,
   "metadata": {},
   "outputs": [],
   "source": [
    "# Define and fit the model\n",
    "model = LinearRegression(fit_intercept=True)\n",
    "model.fit(X_train, y_train)"
   ]
  },
  {
   "cell_type": "code",
   "execution_count": null,
   "metadata": {},
   "outputs": [],
   "source": [
    "print(\"Model coeficient and intercept:\")\n",
    "print(model.coef_, model.intercept_)"
   ]
  },
  {
   "cell_type": "code",
   "execution_count": null,
   "metadata": {},
   "outputs": [],
   "source": [
    "# Make some predictions for out test sample\n",
    "yfit = model.predict(X_test)\n",
    "print(yfit)"
   ]
  },
  {
   "cell_type": "code",
   "execution_count": null,
   "metadata": {},
   "outputs": [],
   "source": [
    "y_test"
   ]
  },
  {
   "cell_type": "code",
   "execution_count": null,
   "metadata": {},
   "outputs": [],
   "source": [
    "print(format(accuracy_score(y_test, yfit),\".4%\"))"
   ]
  },
  {
   "cell_type": "markdown",
   "metadata": {},
   "source": [
    "### Making a plot"
   ]
  },
  {
   "cell_type": "code",
   "execution_count": null,
   "metadata": {},
   "outputs": [],
   "source": [
    "comparison = y_test.to_frame()\n",
    "comparison[\"Predicted\"] = yfit.tolist()\n",
    "comparison.describe()"
   ]
  },
  {
   "cell_type": "code",
   "execution_count": null,
   "metadata": {},
   "outputs": [],
   "source": [
    "# Sort prices ascending\n",
    "(comparison.sort_values(by=[\"Price\"]).plot(\n",
    "    kind=\"line\",\n",
    "    x=\"Price\",\n",
    "    y=\"Predicted\"\n",
    "))"
   ]
  },
  {
   "cell_type": "markdown",
   "metadata": {},
   "source": [
    "## Reach a conclusion\n",
    "\n",
    "**What was the result of your experiment?**\n",
    "\n",
    "The most accuracy I got on my model was 0.05% which is quite depressing. But reviewing the predictions it appears that the predictions are not that far off the actual car price"
   ]
  },
  {
   "cell_type": "markdown",
   "metadata": {},
   "source": [
    "**How can it be improved?**\n",
    "\n",
    "- Use a different way to get the base model\n",
    "  - Maybe analyze the common pattern and split changing part\n",
    "- See what properties affect the price the most\n",
    "- Transmission could be analyzed by\n",
    "  - Type: Manual, Automatic, CVT\n",
    "  - No. of gears (Optional)\n",
    "  - Proprietary technology\n",
    "- Engine could be simplified and classified\n",
    "    - Electric\n",
    "    - Gas\n",
    "    - Diesel\n",
    "    - Turbo charged\n",
    "    - Other extras\n",
    "- Use a different scale for mileage and year\n",
    "  - Those numbers may affect more the price than ratings"
   ]
  },
  {
   "cell_type": "markdown",
   "metadata": {},
   "source": [
    "**Elaborate in one thing you learn during the capstone project.**\n",
    "\n",
    "Data analysis is fun and reviewing the data set and continue to learn from it is wonderful.\n",
    "\n",
    "The way to evaluate accuracy in this case should be a little different, I would thing take the prediction more as reference value rather than an actual determinating value.\n",
    "\n",
    "I believe that there should be a better model to predict the price."
   ]
  },
  {
   "cell_type": "markdown",
   "metadata": {},
   "source": [
    "## Congratulations\n",
    "\n",
    "You have finished the bootcamp!\n",
    "\n",
    "![Congratulations](images/congratulations.jpg)"
   ]
  }
 ],
 "metadata": {
  "kernelspec": {
   "display_name": "Python 3.8.9 ('venv': venv)",
   "language": "python",
   "name": "python3"
  },
  "language_info": {
   "codemirror_mode": {
    "name": "ipython",
    "version": 3
   },
   "file_extension": ".py",
   "mimetype": "text/x-python",
   "name": "python",
   "nbconvert_exporter": "python",
   "pygments_lexer": "ipython3",
   "version": "3.8.9"
  },
  "vscode": {
   "interpreter": {
    "hash": "f477b14a0f09b5fe870e64859caee108ca8f631a0805a5703aee73688d5e6931"
   }
  }
 },
 "nbformat": 4,
 "nbformat_minor": 4
}
